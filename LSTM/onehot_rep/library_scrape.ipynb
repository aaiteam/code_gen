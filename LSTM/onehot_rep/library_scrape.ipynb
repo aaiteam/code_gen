{
 "cells": [
  {
   "cell_type": "code",
   "execution_count": null,
   "metadata": {
    "collapsed": true
   },
   "outputs": [],
   "source": [
    "import os\n",
    "import keyword\n",
    "import itertools\n",
    "import re\n",
    "import pickle\n",
    "from progressbar import ProgressBar"
   ]
  },
  {
   "cell_type": "code",
   "execution_count": null,
   "metadata": {
    "collapsed": false
   },
   "outputs": [],
   "source": [
    "# all kinds of codeword to extract \n",
    "builtin_func = dir(__builtins__)  # builtin functions\n",
    "keyword_list = keyword.kwlist  # builtin keywords\n",
    "arith_operator = ['+', '-', '*', '/', '%', '//', '**']\n",
    "comp_operator = ['>', '<', '!=', '==', '>=', '<=']\n",
    "logic_operator = ['or', 'and', 'not']\n",
    "assign_operator = ['=', '+=', '-=', '*=', '/=', '%=', '//=', '**=']\n",
    "bracket = ['{', '}', '[', ']', '(', ')'] \n",
    "special_symbol = [':']\n",
    "useful_delimiters = [' ', '\\n']\n",
    "digit_expression = ['y']\n",
    "\n",
    "# symbols to be omitted \n",
    "omit_list = ['', ',', '\"', \">>>\", \"...\", \"#\", '.']\n",
    "\n",
    "filt = list(itertools.chain(builtin_func, keyword_list, arith_operator, \n",
    "            comp_operator, logic_operator, assign_operator, bracket, special_symbol, useful_delimiters, digit_expression))\n",
    "\n",
    "# delimiters to split string into list \n",
    "delimiters = [',',' ', '(', ')', '[', ']', '{', '}', ':', \"...\", '\\n', '\"', '.', '>>>']\n",
    "regexPattern = \"(\" + '|'.join(map(re.escape, delimiters)) + \")\"  "
   ]
  },
  {
   "cell_type": "code",
   "execution_count": null,
   "metadata": {
    "collapsed": true
   },
   "outputs": [],
   "source": [
    "def find_all_files(directory):\n",
    "    for root, dirs, files in os.walk(directory):\n",
    "        yield root\n",
    "        for file in files:\n",
    "            yield os.path.join(root, file)"
   ]
  },
  {
   "cell_type": "code",
   "execution_count": null,
   "metadata": {
    "collapsed": true
   },
   "outputs": [],
   "source": [
    "def get_python_filenames_from_libraries(library_name):\n",
    "    exec(\"import \" + library_name)\n",
    "    library_path, _ = os.path.split(eval(library_name).__file__)\n",
    "    py_fn_list = []\n",
    "    for fn in find_all_files(library_path):\n",
    "        _, extension = os.path.splitext(fn)\n",
    "        if extension == '.py' and \"__init__\" not in fn:\n",
    "            py_fn_list.append(fn)\n",
    "    return py_fn_list"
   ]
  },
  {
   "cell_type": "code",
   "execution_count": null,
   "metadata": {
    "collapsed": true
   },
   "outputs": [],
   "source": [
    "def keywords_extraction_from_file(input_fn):\n",
    "    \n",
    "    \"\"\" read webpages from input_file, extract python codes from corresponding webpage and saved \n",
    "    the refined codeword into output_file\n",
    "    \n",
    "    Args:\n",
    "       input_fn: .py filename\n",
    "    Return:\n",
    "       code_refined_list: keyword list\n",
    "    \"\"\"\n",
    "    f = open(input_fn, 'r')\n",
    "    code_refine_list = []\n",
    "    for code_line in f:\n",
    "        # extract only source code and omit substrings after # \n",
    "        code_line = code_line.split(\"#\",1)[0]\n",
    "        if code_line == '\\n':\n",
    "            continue\n",
    "        # replace substring within \"\" with x\n",
    "        code_line = re.sub(r'\\\"(.+?)\\\"', \"x\", code_line)\n",
    "        code_list = re.split(regexPattern, code_line) \n",
    "\n",
    "        for symbol in code_list:     \n",
    "            if symbol in filt: \n",
    "                code_refine_list.append(symbol)\n",
    "            elif symbol.isdigit():\n",
    "                code_refine_list.append(digit_expression[0])\n",
    "            elif symbol not in omit_list:\n",
    "                code_refine_list.append('x')\n",
    "    f.close()\n",
    "    \n",
    "    return code_refine_list"
   ]
  },
  {
   "cell_type": "code",
   "execution_count": null,
   "metadata": {
    "collapsed": true
   },
   "outputs": [],
   "source": [
    "def code_extraction(library_name_list, output_file):\n",
    "    \n",
    "    \"\"\" read webpages from input_file, extract python codes from corresponding webpage and saved \n",
    "    the refined codeword into output_file\n",
    "    \n",
    "    Args:\n",
    "       library_list: from which txt file to read webpage list\n",
    "       output_file: to which csv file to write codeword into \n",
    "    \"\"\"\n",
    "    output_list = []\n",
    "    for library_name  in library_name_list:\n",
    "        py_fn_list = get_python_filenames_from_libraries(library_name )\n",
    "        n_file = len(py_fn_list)\n",
    "        p = ProgressBar(max_value=n_file)\n",
    "        for i, py_fn in enumerate(py_fn_list):\n",
    "            output_list.append(keywords_extraction_from_file(py_fn))\n",
    "            p.update(i+1)\n",
    "\n",
    "        print (\"{}: {} python files have been processed! \".format(library_name , n_file))\n",
    "        \n",
    "    with open(output_filename,'wb') as f:\n",
    "        qpickle.dump(output_list,f)"
   ]
  },
  {
   "cell_type": "code",
   "execution_count": null,
   "metadata": {
    "collapsed": true
   },
   "outputs": [],
   "source": [
    "def convert2onehot(input_file):\n",
    "    \"\"\" read codeword examples and convert them to onehot representation,\n",
    "    save the converted ones into data_onehot as list with each element of a numpy matrix \n",
    "    \n",
    "    Args:\n",
    "        input_file: from where to read .pkl file\n",
    "    \n",
    "    Returns:\n",
    "        data_onehot: data with onehot representation \n",
    "        data_index: data with index representation \n",
    "    \"\"\"\n",
    "    import pandas as pd\n",
    "    import numpy as np\n",
    "    \n",
    "    # load .pkl file \n",
    "    with open(input_file,\"rb\") as f:\n",
    "        data = pickle.load(f)\n",
    "    # flatten multi-level list into single-level list    \n",
    "    data_list = [element for lst in data for element in lst]\n",
    "    # obtain one-hot representation of each codeword\n",
    "    s = pd.Series(data_list)\n",
    "    onehot = pd.get_dummies(s)\n",
    "    codebook = list(onehot.columns.values)\n",
    "    onehot = onehot.as_matrix()\n",
    "    # save index of each codeword in index(list)\n",
    "    index = [int(np.nonzero(row)[0][0]) for row in onehot] \n",
    "    num_codeword = onehot.shape[1]\n",
    "    data_onehot = []\n",
    "    data_index = []\n",
    "    cnt = 0 \n",
    "    for lst in data:\n",
    "        lst_onehot = np.empty((0,num_codeword), dtype=int)\n",
    "        lst_index = []\n",
    "        for element in lst:\n",
    "            lst_onehot = np.concatenate((lst_onehot, onehot[cnt,:][np.newaxis,:]), axis = 0)\n",
    "            lst_index.append(index[cnt])\n",
    "            cnt += 1\n",
    "        data_onehot.append(lst_onehot) \n",
    "        data_index.append(lst_index)\n",
    "    return data_onehot, data_index, codebook"
   ]
  },
  {
   "cell_type": "code",
   "execution_count": null,
   "metadata": {
    "collapsed": false
   },
   "outputs": [],
   "source": [
    "if __name__ == '__main__':\n",
    "    ### Necessary to set these params ###\n",
    "    pretrain_library_name_list = ['pandas', 'numpy', 'scipy', 'sklearn', 'chainer']\n",
    "    output_filename = \"lib_code_refined_list.pkl\"\n",
    "    ##############################\n",
    "    \n",
    "    code_extraction(pretrain_library_name_list, output_filename)\n",
    "    _, data_index, codebook = convert2onehot(output_filename)\n",
    "    print 'data_index\\n', data_index\n",
    "    print 'codebook\\n', codebook\n",
    "    print 'max index', max([max(x) for x in data_index])"
   ]
  }
 ],
 "metadata": {
  "anaconda-cloud": {},
  "kernelspec": {
   "display_name": "Python [conda root]",
   "language": "python",
   "name": "conda-root-py"
  },
  "language_info": {
   "codemirror_mode": {
    "name": "ipython",
    "version": 2
   },
   "file_extension": ".py",
   "mimetype": "text/x-python",
   "name": "python",
   "nbconvert_exporter": "python",
   "pygments_lexer": "ipython2",
   "version": "2.7.12"
  }
 },
 "nbformat": 4,
 "nbformat_minor": 2
}
