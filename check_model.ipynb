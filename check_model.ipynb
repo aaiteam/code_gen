{
 "cells": [
  {
   "cell_type": "code",
   "execution_count": 420,
   "metadata": {
    "collapsed": true
   },
   "outputs": [],
   "source": [
    "from chainer import Chain, Variable, optimizers\n",
    "import chainer.functions as F\n",
    "import chainer.links as L\n",
    "import copy\n",
    "import gym\n",
    "import random\n",
    "import numpy as np\n",
    "import gym_codegen\n",
    "from chainer import serializers\n",
    "\n",
    "from state import State, ACTIONS\n",
    "\n",
    "# random.seed(42) # for reproducibility\n",
    "\n",
    "class Neuralnet(Chain):\n",
    "\n",
    "    def __init__(self, n_in, n_out):\n",
    "        super(Neuralnet, self).__init__(\n",
    "            L1 = L.Linear(n_in, 20),\n",
    "            Q_value = L.Linear(20, n_out, initialW=np.zeros((n_out, 20), dtype=np.float32))\n",
    "        )\n",
    "\n",
    "    def q_function(self, x):\n",
    "        h = F.leaky_relu(self.L1(x))\n",
    "        h = self.Q_value(h)\n",
    "        return h"
   ]
  },
  {
   "cell_type": "code",
   "execution_count": 440,
   "metadata": {
    "collapsed": false
   },
   "outputs": [
    {
     "name": "stdout",
     "output_type": "stream",
     "text": [
      "[[-80.39958191 -80.3556366  -80.20281219]]\n",
      "2\n",
      "[[-80.35087585 -80.3168335  -80.16731262]]\n",
      "2\n",
      "[[-80.42721558 -80.38876343 -80.2408371 ]]\n",
      "2\n"
     ]
    }
   ],
   "source": [
    "model = Neuralnet(3, 3)\n",
    "\n",
    "serializers.load_npz('./network/model.model', model)\n",
    "\n",
    "state = np.array([[-1, -1, -1]], dtype=np.float32)\n",
    "s = Variable(state)\n",
    "print (model.q_function(s).data)\n",
    "print np.argmax(model.q_function(s).data)\n",
    "\n",
    "state = np.array([[1, -1, -1]], dtype=np.float32)\n",
    "s = Variable(state)\n",
    "\n",
    "print (model.q_function(s).data)\n",
    "print np.argmax(model.q_function(s).data)\n",
    "\n",
    "state = np.array([[1, 0, -1]], dtype=np.float32)\n",
    "s = Variable(state)\n",
    "\n",
    "print (model.q_function(s).data)\n",
    "print np.argmax(model.q_function(s).data)"
   ]
  },
  {
   "cell_type": "code",
   "execution_count": null,
   "metadata": {
    "collapsed": true
   },
   "outputs": [],
   "source": []
  },
  {
   "cell_type": "code",
   "execution_count": null,
   "metadata": {
    "collapsed": true
   },
   "outputs": [],
   "source": []
  },
  {
   "cell_type": "code",
   "execution_count": null,
   "metadata": {
    "collapsed": true
   },
   "outputs": [],
   "source": []
  },
  {
   "cell_type": "code",
   "execution_count": null,
   "metadata": {
    "collapsed": true
   },
   "outputs": [],
   "source": []
  },
  {
   "cell_type": "code",
   "execution_count": null,
   "metadata": {
    "collapsed": true
   },
   "outputs": [],
   "source": []
  },
  {
   "cell_type": "code",
   "execution_count": null,
   "metadata": {
    "collapsed": true
   },
   "outputs": [],
   "source": []
  }
 ],
 "metadata": {
  "anaconda-cloud": {},
  "kernelspec": {
   "display_name": "Python [Root]",
   "language": "python",
   "name": "Python [Root]"
  },
  "language_info": {
   "codemirror_mode": {
    "name": "ipython",
    "version": 2
   },
   "file_extension": ".py",
   "mimetype": "text/x-python",
   "name": "python",
   "nbconvert_exporter": "python",
   "pygments_lexer": "ipython2",
   "version": "2.7.12"
  }
 },
 "nbformat": 4,
 "nbformat_minor": 0
}
