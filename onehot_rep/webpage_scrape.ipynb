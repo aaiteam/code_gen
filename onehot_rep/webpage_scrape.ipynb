{
 "cells": [
  {
   "cell_type": "code",
   "execution_count": 4,
   "metadata": {
    "collapsed": false
   },
   "outputs": [],
   "source": [
    "import urllib2 as urllib\n",
    "import requests\n",
    "import keyword\n",
    "from bs4 import BeautifulSoup\n",
    "import keyword\n",
    "import re \n",
    "import itertools\n",
    "import cPickle as pickle"
   ]
  },
  {
   "cell_type": "code",
   "execution_count": 9,
   "metadata": {
    "collapsed": false,
    "scrolled": false
   },
   "outputs": [],
   "source": [
    "def code_extraction(input_file, output_file):\n",
    "    \n",
    "    \"\"\" read webpages from input_file, extract python codes from corresponding webpage and saved \n",
    "    the refined codeword into output_file\n",
    "    \n",
    "    Args:\n",
    "       input_file: from which txt file to read webpage list\n",
    "       output_file: to which csv file to write codeword into \n",
    "    \"\"\"\n",
    "    with open(input_file, \"rb\") as reader:\n",
    "        output_list = []\n",
    "        for line in reader:\n",
    "            # read webpage and scrape python source codes from it\n",
    "            webpage = line.rstrip()\n",
    "            web_file = urllib.urlopen(webpage)\n",
    "            soup = BeautifulSoup(web_file, \"lxml\")\n",
    "\n",
    "            # all kinds of codeword to extract \n",
    "            builtin_func = dir(__builtins__)  # builtin functions\n",
    "            keyword_list = keyword.kwlist  # builtin keywords\n",
    "            arith_operator = ['+', '-', '*', '/', '%', '//', '**']\n",
    "            comp_operator = ['>', '<', '!=', '==', '>=', '<=']\n",
    "            logic_operator = ['or', 'and', 'not']\n",
    "            assign_operator = ['=', '+=', '-=', '*=', '/=', '%=', '//=', '**=']\n",
    "            bracket = ['{', '}', '[', ']', '(', ')'] \n",
    "            special_symbol = [':']\n",
    "\n",
    "            # symbols to be omitted \n",
    "            omit_list = ['', ' ', ',', '\\n', '\"', \">>>\", \"...\", \"#\", '.']\n",
    "\n",
    "            filt = list(itertools.chain(builtin_func, keyword_list, arith_operator, \n",
    "                        comp_operator, logic_operator, assign_operator, bracket, special_symbol))\n",
    "\n",
    "            # delimiters to split string into list \n",
    "            delimiters = [',',' ', '(', ')', '[', ']', ':', \"...\", '\\n', '\"', '.', '>>>']\n",
    "            regexPattern = \"(\" + '|'.join(map(re.escape, delimiters)) + \")\"  \n",
    "\n",
    "            code_set = soup.find_all(\"div\", class_=\"highlight-python\")\n",
    "            for code_block in code_set:\n",
    "                code_refine = []\n",
    "                code_txt = code_block.get_text().encode('utf8')\n",
    "                code_txt = code_txt.split('\\n')\n",
    "                for code_line in code_txt:\n",
    "                    # extract only source code and omit substrings after # \n",
    "                    code_line = code_line.split(\"#\",1)[0]\n",
    "                    # replace substring within \"\" with x\n",
    "                    code_line = re.sub(r'\\\"(.+?)\\\"', \"x\", code_line)\n",
    "                    if code_line.startswith(\">>>\") or code_line.startswith(\"...\"):\n",
    "                        code_list = re.split(regexPattern, code_line) \n",
    "            #             print code_list\n",
    "                        for symbol in code_list:     \n",
    "                            if symbol in filt: \n",
    "                                code_refine.append(symbol)\n",
    "                            elif symbol not in omit_list:\n",
    "                                code_refine.append('x')\n",
    "                #  if code_refine is not empty\n",
    "                if code_refine:\n",
    "#                     print code_refine\n",
    "                    output_list.append(code_refine)\n",
    "    print output_list\n",
    "    with open(output_file,'wb') as f:\n",
    "        pickle.dump(output_list,f)\n"
   ]
  },
  {
   "cell_type": "code",
   "execution_count": 10,
   "metadata": {
    "collapsed": false
   },
   "outputs": [
    {
     "name": "stdout",
     "output_type": "stream",
     "text": [
      "[['x', '+', 'x', 'x', '-', 'x', '(', 'x', '-', 'x', 'x', ')', '/', 'x', 'x', '/', 'x', 'x'], ['x', '/', 'x', 'x', '/', 'x', 'x', 'x', '//', 'x', 'x', 'x', '%', 'x', 'x', '*', 'x', '+', 'x'], ['x', '**', 'x', 'x', '**', 'x'], ['x', '=', 'x', 'x', '=', 'x', '*', 'x', 'x', '*', 'x'], ['x'], ['x', '*', 'x', 'x', '/', 'x', 'x', 'x', 'x', '/', 'x'], ['x', '=', 'x', 'x', '/', 'x', 'x', '=', 'x', 'x', 'x', '*', 'x', 'x', '+', 'x', 'round', '(', 'x', 'x', ')'], ['x', 'x', 'x', 'x', 'x', 'x', 'x', 'x', 'x', 'x', 'x', 'x', 'x', 'x'], ['x', 'x', 'x', 'x', 'print', 'x', 'x', 'x', 'x', 'x', '=', 'x', 'x', 'x', 'x', 'x', 'x', 'print', 'x'], ['print', 'x', ':', 'x', 'print', 'x', ':', 'x'], ['x', '*', 'x', '+', 'x'], ['x', 'x'], ['x', '=', 'x', 'x', 'x', '(', 'x', '*', 'x', ')', 'x'], ['x', '+', 'x'], ['x', '=', '(', 'x', 'x', 'x', 'x', 'x', 'x', 'x', 'x', 'x', 'x', 'x', 'x', ')', 'x'], ['x', '=', 'x', 'x', '[', 'x', ']', 'x', '[', 'x', ']'], ['x', '[', 'x', ']', 'x', '[', 'x', ']', 'x', '[', 'x', ']'], ['x', '[', 'x', ':', 'x', ']', 'x', '[', 'x', ':', 'x', ']'], ['x', '[', ':', 'x', ']', '+', 'x', '[', 'x', ':', ']', 'x', '[', ':', 'x', ']', '+', 'x', '[', 'x', ':', ']'], ['x', '[', ':', 'x', ']', 'x', '[', 'x', ':', ']', 'x', '[', 'x', ':', ']'], ['x', '[', 'x', ']'], ['x', '[', 'x', ':', 'x', ']', 'x', '[', 'x', ':', ']'], ['x', '[', 'x', ']', '=', 'x', 'x', '[', 'x', ':', ']', '=', 'x'], ['x', '+', 'x', '[', 'x', ':', ']', 'x', '[', ':', 'x', ']', '+', 'x'], ['x', '=', 'x', 'len', '(', 'x', ')'], ['x', 'x', 'x'], ['x', 'x'], ['x', 'x', 'x', 'x'], ['x', 'str', '(', 'x', ')', 'x', 'str', '(', 'x', ')'], ['x', 'x', '(', 'x', ')'], ['unicode', '(', 'x', 'x', ')'], ['x', '=', '[', 'x', 'x', 'x', 'x', 'x', ']', 'x'], ['x', '[', 'x', ']', 'x', '[', 'x', ']', 'x', '[', 'x', ':', ']'], ['x', '[', ':', ']'], ['x', '+', '[', 'x', 'x', 'x', 'x', 'x', ']'], ['x', '=', '[', 'x', 'x', 'x', 'x', 'x', ']', 'x', '**', 'x', 'x', '[', 'x', ']', '=', 'x', 'x'], ['x', 'x', '(', 'x', ')', 'x', 'x', '(', 'x', '**', 'x', ')', 'x'], ['x', '=', '[', 'x', 'x', 'x', 'x', 'x', 'x', 'x', ']', 'x', 'x', '[', 'x', ':', 'x', ']', '=', '[', 'x', 'x', 'x', ']', 'x', 'x', '[', 'x', ':', 'x', ']', '=', '[', ']', 'x', 'x', '[', ':', ']', '=', '[', ']', 'x'], ['x', '=', '[', 'x', 'x', 'x', 'x', ']', 'len', '(', 'x', ')'], ['x', '=', '[', 'x', 'x', 'x', ']', 'x', '=', '[', 'x', 'x', 'x', ']', 'x', '=', '[', 'x', 'x', ']', 'x', 'x', '[', 'x', ']', 'x', '[', 'x', ']', '[', 'x', ']'], ['x', 'x', '=', 'x', 'x', 'while', 'x', '<', 'x', ':', 'print', 'x', 'x', 'x', '=', 'x', 'x'], ['x', '=', 'x', 'print', 'x', 'x', 'x', 'x', 'x', 'x'], ['x', 'x', '=', 'x', 'x', 'while', 'x', '<', 'x', ':', 'print', 'x', 'x', 'x', '=', 'x', 'x'], ['x', '=', 'int', '(', 'raw_input', '(', 'x', ')', ')', 'if', 'x', '<', 'x', ':', 'x', '=', 'x', 'print', 'x', 'x', 'x', 'x', 'elif', 'x', '==', 'x', ':', 'print', 'x', 'elif', 'x', '==', 'x', ':', 'print', 'x', 'else', ':', 'print', 'x'], ['x', '=', '[', 'x', 'x', 'x', ']', 'for', 'x', 'in', 'x', ':', 'print', 'x', 'len', '(', 'x', ')'], ['for', 'x', 'in', 'x', '[', ':', ']', ':', 'if', 'len', '(', 'x', ')', '>', 'x', ':', 'x', 'x', '(', 'x', 'x', ')', 'x'], ['range', '(', 'x', ')'], ['range', '(', 'x', 'x', ')', 'range', '(', 'x', 'x', 'x', ')', 'range', '(', 'x', 'x', 'x', ')'], ['x', '=', '[', 'x', 'x', 'x', 'x', 'x', ']', 'for', 'x', 'in', 'range', '(', 'len', '(', 'x', ')', ')', ':', 'print', 'x', 'x', '[', 'x', ']'], ['for', 'x', 'in', 'range', '(', 'x', 'x', ')', ':', 'for', 'x', 'in', 'range', '(', 'x', 'x', ')', ':', 'if', 'x', '%', 'x', '==', 'x', ':', 'print', 'x', 'x', 'x', 'x', 'x', 'break', 'else', ':', 'print', 'x', 'x', 'x', 'x', 'x'], ['for', 'x', 'in', 'range', '(', 'x', 'x', ')', ':', 'if', 'x', '%', 'x', '==', 'x', ':', 'print', 'x', 'x', 'continue', 'print', 'x', 'x'], ['while', 'True', ':', 'pass'], ['class', 'x', ':', 'pass'], ['def', 'x', '(', 'x', ')', ':', 'pass'], ['def', 'x', '(', 'x', ')', ':', 'x', 'x', 'x', 'x', 'x', 'x', 'x', 'x', 'x', 'x', '=', 'x', 'x', 'while', 'x', '<', 'x', ':', 'print', 'x', 'x', 'x', '=', 'x', 'x', 'x', '(', 'x', ')'], ['x', 'x', '=', 'x', 'x', '(', 'x', ')'], ['x', '(', 'x', ')', 'print', 'x', '(', 'x', ')'], ['def', 'x', '(', 'x', ')', ':', 'x', 'x', 'list', 'x', 'x', 'x', 'x', 'x', 'x', 'x', 'x', 'x', '=', '[', ']', 'x', 'x', '=', 'x', 'x', 'while', 'x', '<', 'x', ':', 'x', 'x', '(', 'x', ')', 'x', 'x', '=', 'x', 'x', 'return', 'x', 'x', '=', 'x', '(', 'x', ')', 'x'], ['def', 'x', '(', 'x', ')', ':', 'pass', 'x', '(', 'x', 'x', ')'], ['range', '(', 'x', 'x', ')', 'x', '=', '[', 'x', 'x', ']', 'range', '(', 'x', ')'], ['def', 'x', '(', 'x', 'x', 'x', 'x', ')', ':', 'print', 'x', 'x', 'print', 'x', 'x', 'x', 'print', 'x', 'x', 'x', 'x', '=', 'x', ':', 'x', 'x', ':', 'x', 'x', ':', 'x', 'x', '(', 'x', ')'], ['def', 'x', '(', 'x', ')', ':', 'return', 'lambda', 'x', ':', 'x', '+', 'x', 'x', '=', 'x', '(', 'x', ')', 'x', '(', 'x', ')', 'x', '(', 'x', ')'], ['x', '=', '[', '(', 'x', 'x', ')', '(', 'x', 'x', ')', '(', 'x', 'x', ')', '(', 'x', 'x', ')', ']', 'x', 'x', '(', 'x', 'x', ':', 'x', '[', 'x', ']', ')', 'x'], ['def', 'x', '(', ')', ':', 'x', 'x', 'x', 'x', 'x', 'x', 'x', 'x', 'x', 'x', 'x', 'x', 'pass', 'print', 'x', '__doc__'], ['x', '=', '[', 'x', 'x', 'x', 'x', 'x', 'x', 'x', ']', 'print', 'x', 'x', '(', 'x', ')', 'x', 'x', '(', 'x', 'x', ')', 'x', 'x', '(', 'x', ')', 'x', 'x', '(', 'x', 'x', ')', 'x', 'x', '(', 'x', ')', 'x', 'x', 'x', '(', 'x', ')', 'x', 'x', '(', 'x', ')', 'x', 'x', 'x', '(', ')', 'x', 'x', 'x', '(', ')', 'x', 'x', 'x', '(', ')', 'x'], ['x', '=', '[', 'x', 'x', 'x', ']', 'x', 'x', '(', 'x', ')', 'x', 'x', '(', 'x', ')', 'x', 'x', 'x', '(', ')', 'x', 'x', 'x', '(', ')', 'x', 'x', '(', ')', 'x'], ['from', 'x', 'import', 'x', 'x', '=', 'x', '(', '[', 'x', 'x', 'x', ']', ')', 'x', 'x', '(', 'x', ')', 'x', 'x', '(', 'x', ')', 'x', 'x', '(', ')', 'x', 'x', '(', ')', 'x'], ['def', 'x', '(', 'x', ')', ':', 'return', 'x', '%', 'x', '==', 'x', 'or', 'x', '%', 'x', '==', 'x', 'filter', '(', 'x', 'range', '(', 'x', 'x', ')', ')'], ['def', 'x', '(', 'x', ')', ':', 'return', 'x', 'map', '(', 'x', 'range', '(', 'x', 'x', ')', ')'], ['x', '=', 'range', '(', 'x', ')', 'def', 'x', '(', 'x', 'x', ')', ':', 'return', 'x', 'map', '(', 'x', 'x', 'x', ')'], ['def', 'x', '(', 'x', 'x', ')', ':', 'return', 'x', 'reduce', '(', 'x', 'range', '(', 'x', 'x', ')', ')'], ['def', 'sum', '(', 'x', ')', ':', 'def', 'x', '(', 'x', 'x', ')', ':', 'return', 'x', 'return', 'reduce', '(', 'x', 'x', 'x', ')', 'sum', '(', 'range', '(', 'x', 'x', ')', ')', 'sum', '(', '[', ']', ')'], ['x', '=', '[', ']', 'for', 'x', 'in', 'range', '(', 'x', ')', ':', 'x', 'x', '(', 'x', ')', 'x'], ['[', '(', 'x', 'x', ')', 'for', 'x', 'in', '[', 'x', 'x', 'x', ']', 'for', 'x', 'in', '[', 'x', 'x', 'x', ']', 'if', 'x', '!=', 'x', ']'], ['x', '=', '[', ']', 'for', 'x', 'in', '[', 'x', 'x', 'x', ']', ':', 'for', 'x', 'in', '[', 'x', 'x', 'x', ']', ':', 'if', 'x', '!=', 'x', ':', 'x', 'x', '(', '(', 'x', 'x', ')', ')', 'x'], ['x', '=', '[', 'x', 'x', 'x', 'x', 'x', ']', '[', 'x', 'for', 'x', 'in', 'x', ']', '[', 'x', 'for', 'x', 'in', 'x', 'if', 'x', '>=', 'x', ']', '[', 'abs', '(', 'x', ')', 'for', 'x', 'in', 'x', ']', 'x', '=', '[', 'x', 'x', 'x', 'x', 'x', 'x', 'x', 'x', ']', '[', 'x', 'x', '(', ')', 'for', 'x', 'in', 'x', ']', '[', '(', 'x', 'x', ')', 'for', 'x', 'in', 'range', '(', 'x', ')', ']', '[', 'x', 'x', 'for', 'x', 'in', 'range', '(', 'x', ')', ']', 'x', '=', '[', '[', 'x', 'x', 'x', ']', '[', 'x', 'x', 'x', ']', '[', 'x', 'x', 'x', ']', ']', '[', 'x', 'for', 'x', 'in', 'x', 'for', 'x', 'in', 'x', ']'], ['from', 'x', 'import', 'x', '[', 'str', '(', 'round', '(', 'x', 'x', ')', ')', 'for', 'x', 'in', 'range', '(', 'x', 'x', ')', ']'], ['x', '=', '[', '[', 'x', 'x', 'x', 'x', ']', '[', 'x', 'x', 'x', 'x', ']', '[', 'x', 'x', 'x', 'x', ']', ']'], ['[', '[', 'x', '[', 'x', ']', 'for', 'x', 'in', 'x', ']', 'for', 'x', 'in', 'range', '(', 'x', ')', ']'], ['x', '=', '[', ']', 'for', 'x', 'in', 'range', '(', 'x', ')', ':', 'x', 'x', '(', '[', 'x', '[', 'x', ']', 'for', 'x', 'in', 'x', ']', ')', 'x'], ['x', '=', '[', ']', 'for', 'x', 'in', 'range', '(', 'x', ')', ':', 'x', '=', '[', ']', 'for', 'x', 'in', 'x', ':', 'x', 'x', '(', 'x', '[', 'x', ']', ')', 'x', 'x', '(', 'x', ')', 'x'], ['zip', '(', 'x', ')'], ['x', '=', '[', 'x', 'x', 'x', 'x', 'x', 'x', 'x', 'x', ']', 'del', 'x', '[', 'x', ']', 'x', 'del', 'x', '[', 'x', ':', 'x', ']', 'x', 'del', 'x', '[', ':', ']', 'x'], ['del', 'x'], ['x', '=', 'x', 'x', 'x', 'x', '[', 'x', ']', 'x', 'x', '=', 'x', '(', 'x', 'x', 'x', 'x', 'x', ')', 'x', 'x', '[', 'x', ']', '=', 'x', 'x', '=', '(', '[', 'x', 'x', 'x', ']', '[', 'x', 'x', 'x', ']', ')', 'x'], ['x', '=', '(', ')', 'x', '=', 'x', 'len', '(', 'x', ')', 'len', '(', 'x', ')', 'x'], ['x', 'x', 'x', '=', 'x'], ['x', '=', '[', 'x', 'x', 'x', 'x', 'x', 'x', ']', 'x', '=', 'set', '(', 'x', ')', 'x', 'x', 'in', 'x', 'x', 'in', 'x', 'x', '=', 'set', '(', 'x', ')', 'x', '=', 'set', '(', 'x', ')', 'x', 'x', '-', 'x', 'x', 'x', 'x', 'x', 'x', 'x', 'x', 'x', 'x'], ['x', '=', 'x', 'for', 'x', 'in', 'x', 'if', 'x', 'not', 'in', 'x', 'x'], ['x', '=', 'x', ':', 'x', 'x', ':', 'x', 'x', '[', 'x', ']', '=', 'x', 'x', 'x', '[', 'x', ']', 'del', 'x', '[', 'x', ']', 'x', '[', 'x', ']', '=', 'x', 'x', 'x', 'x', '(', ')', 'x', 'in', 'x'], ['dict', '(', '[', '(', 'x', 'x', ')', '(', 'x', 'x', ')', '(', 'x', 'x', ')', ']', ')'], ['x', ':', 'x', 'for', 'x', 'in', '(', 'x', 'x', 'x', ')', '}'], ['dict', '(', 'x', 'x', 'x', ')'], ['for', 'x', 'x', 'in', 'enumerate', '(', '[', 'x', 'x', 'x', ']', ')', ':', 'print', 'x', 'x'], ['x', '=', '[', 'x', 'x', 'x', 'x', ']', 'x', '=', '[', 'x', 'x', 'x', 'x', 'x', ']', 'for', 'x', 'x', 'in', 'zip', '(', 'x', 'x', ')', ':', 'print', 'x', 'is', 'x', 'x', 'x', 'is', 'x', 'x', 'format', '(', 'x', 'x', ')'], ['for', 'x', 'in', 'reversed', '(', 'xrange', '(', 'x', 'x', 'x', ')', ')', ':', 'print', 'x'], ['x', '=', '[', 'x', 'x', 'x', 'x', 'x', 'x', ']', 'for', 'x', 'in', 'sorted', '(', 'set', '(', 'x', ')', ')', ':', 'print', 'x'], ['x', '=', 'x', ':', 'x', 'x', 'x', ':', 'x', 'x', 'for', 'x', 'x', 'in', 'x', 'x', '(', ')', ':', 'print', 'x', 'x'], ['import', 'x', 'x', '=', '[', 'x', 'x', 'float', '(', 'x', ')', 'x', 'x', 'x', 'x', 'x', 'x', 'float', '(', 'x', ')', 'x', 'x', ']', 'x', '=', '[', ']', 'for', 'x', 'in', 'x', ':', 'if', 'not', 'x', 'x', '(', 'x', ')', ':', 'x', 'x', '(', 'x', ')', 'x'], ['x', 'x', 'x', '=', 'x', 'x', 'x', 'x', 'x', '=', 'x', 'or', 'x', 'or', 'x', 'x'], ['import', 'x'], ['x', 'x', '(', 'x', ')', 'x', 'x', '(', 'x', ')', 'x', '__name__'], ['x', '=', 'x', 'x', 'x', '(', 'x', ')'], ['from', 'x', 'import', 'x', 'x', 'x', '(', 'x', ')'], ['from', 'x', 'import', '*', 'x', '(', 'x', ')'], ['import', 'x'], ['import', 'x', 'x', 'x', 'x', 'x', 'x', 'x', '=', 'x', 'x'], ['import', 'x', 'x', 'x', 'x', '(', 'x', ')'], ['import', 'x', 'x', 'dir', '(', 'x', ')', 'dir', '(', 'x', ')'], ['x', '=', '[', 'x', 'x', 'x', 'x', 'x', ']', 'import', 'x', 'x', '=', 'x', 'x', 'dir', '(', ')'], ['import', 'x', 'dir', '(', 'x', ')']]\n"
     ]
    }
   ],
   "source": [
    "if __name__ == '__main__':\n",
    "    code_extraction(\"webpage_list.txt\", \"output.pkl\")"
   ]
  },
  {
   "cell_type": "code",
   "execution_count": 16,
   "metadata": {
    "collapsed": false
   },
   "outputs": [
    {
     "name": "stdout",
     "output_type": "stream",
     "text": [
      "   five  four  one  six  three  two\n",
      "0     0     0    1    0      0    0\n",
      "1     0     0    0    0      0    1\n",
      "2     0     0    0    0      1    0\n",
      "3     0     1    0    0      0    0\n",
      "4     1     0    0    0      0    0\n",
      "5     0     0    0    1      0    0\n"
     ]
    }
   ],
   "source": [
    "import pandas as pd \n",
    "s = pd.Series(['one', 'two', 'three', 'four', 'five', 'six'])\n",
    "onehot = pd.get_dummies(s)\n",
    "print onehot"
   ]
  },
  {
   "cell_type": "code",
   "execution_count": null,
   "metadata": {
    "collapsed": true
   },
   "outputs": [],
   "source": []
  }
 ],
 "metadata": {
  "kernelspec": {
   "display_name": "Python 2",
   "language": "python",
   "name": "python2"
  },
  "language_info": {
   "codemirror_mode": {
    "name": "ipython",
    "version": 2
   },
   "file_extension": ".py",
   "mimetype": "text/x-python",
   "name": "python",
   "nbconvert_exporter": "python",
   "pygments_lexer": "ipython2",
   "version": "2.7.10"
  }
 },
 "nbformat": 4,
 "nbformat_minor": 1
}
